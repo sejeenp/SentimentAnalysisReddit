{
 "cells": [
  {
   "cell_type": "markdown",
   "id": "dadbcdd2-0f07-4204-a22f-baf506bff4d6",
   "metadata": {},
   "source": [
    "# Sentiment Analysis - Reddit"
   ]
  },
  {
   "cell_type": "markdown",
   "id": "af3292b5-5d4e-4765-aa67-53f3cbd04b71",
   "metadata": {
    "tags": []
   },
   "source": [
    "## Work Flow"
   ]
  },
  {
   "cell_type": "markdown",
   "id": "af3c0f2f-0cc2-4259-b8ba-d9fd783d132f",
   "metadata": {},
   "source": [
    "**SET UP**\n",
    "\n",
    "1. Set up notebook.\n",
    "2. Identify flairs or search queries of interest (cannot use below function if you want to use additional parameters - i.e., time stamp).\n",
    "\n",
    "**THREADS**\n",
    "\n",
    "3. Use Function A to scrape thread titles for search queries of interest.\n",
    "4. Use Function B to perform sentiment analysis on thread titles.\n",
    "5. Use Function B-i to sort by positive, negative, and neutral posts.\n",
    "\n",
    "**COMMENTS**\n",
    "\n",
    "<strike>6. Use Function C to get URL, etc. for threads based on sentiment label. (Optional: Extract to .CSV)\n",
    "    \n",
    "<strike>7. Go through the titles manually to see which ones peak your interest.\n",
    "\n",
    "8. Use Function D to get comments from thread URL. \n",
    "9. Use Function B to perform sentiment analysis on comments.\n",
    "\n",
    "Suggestions - flair (discussion, official post), word cloud, competitor analysis"
   ]
  },
  {
   "cell_type": "markdown",
   "id": "d08b153b-cfab-41cc-9921-d2a030f41ac6",
   "metadata": {
    "jp-MarkdownHeadingCollapsed": true,
    "tags": []
   },
   "source": [
    "## Set Up\n",
    "\n",
    "**Instructions**\n",
    "1. Log on to Reddit.\n",
    "2. Visit https://reddit.com/prefs/apps (or https://old.reddit.com/prefs/apps/).\n",
    "3. Create a personal script. \n",
    "4. Replace client id, client_secret below."
   ]
  },
  {
   "cell_type": "code",
   "execution_count": 1,
   "id": "fa40026d-74df-4cbd-b7e0-401704407587",
   "metadata": {},
   "outputs": [],
   "source": [
    "from pprint import pprint\n",
    "import pandas as pd\n",
    "import numpy as np\n",
    "import matplotlib.pyplot as plt\n",
    "import seaborn as sns"
   ]
  },
  {
   "cell_type": "code",
   "execution_count": 2,
   "id": "d45929ab-fec9-428f-a1d9-c175454a5bb1",
   "metadata": {},
   "outputs": [],
   "source": [
    "import praw\n",
    "\n",
    "user_agent = \"PlsNoBlockMeReddit 1.0 by /u/lmluk\"\n",
    "reddit = praw.Reddit(\n",
    "    client_id=\"I7UtuKPLzIkEATK-e42-cg\",\n",
    "    client_secret=\"9K6fKvSbvO6o3fW0rNzxGpnHFnTeWw\",\n",
    "    user_agent=user_agent\n",
    ")"
   ]
  },
  {
   "cell_type": "code",
   "execution_count": 3,
   "id": "386859a6-d483-4249-9ba9-104257c9caa4",
   "metadata": {},
   "outputs": [
    {
     "name": "stderr",
     "output_type": "stream",
     "text": [
      "[nltk_data] Downloading package vader_lexicon to\n",
      "[nltk_data]     /Users/kirbypark/nltk_data...\n",
      "[nltk_data]   Package vader_lexicon is already up-to-date!\n"
     ]
    }
   ],
   "source": [
    "import nltk\n",
    "nltk.download('vader_lexicon')\n",
    "\n",
    "from nltk.sentiment.vader import SentimentIntensityAnalyzer as SIA"
   ]
  },
  {
   "cell_type": "markdown",
   "id": "31c22574-682e-4025-8ffe-4a811fbae438",
   "metadata": {
    "tags": []
   },
   "source": [
    "## Functions"
   ]
  },
  {
   "cell_type": "markdown",
   "id": "6685d143-16d6-4404-acba-76fd371b7109",
   "metadata": {
    "tags": []
   },
   "source": [
    "### A. Getting Thread Titles from Search Queries\n",
    "\n",
    "Only set up for search keywords & flairs."
   ]
  },
  {
   "cell_type": "code",
   "execution_count": 10,
   "id": "10cb989d-ed84-4725-a286-9912081eb249",
   "metadata": {},
   "outputs": [],
   "source": [
    "def get_thread_titles(subreddit, flair):\n",
    "    data = set()\n",
    "    for submission in reddit.subreddit(subreddit).search(flair):\n",
    "        data.add(submission.title)\n",
    "    return data"
   ]
  },
  {
   "cell_type": "markdown",
   "id": "33b75111-344a-43cf-bba6-b3ec93e95abe",
   "metadata": {},
   "source": [
    "### B. Sentiment Analysis"
   ]
  },
  {
   "cell_type": "code",
   "execution_count": 46,
   "id": "ba220c3d-5020-4be7-b56d-e8c88f5f51ee",
   "metadata": {},
   "outputs": [],
   "source": [
    "def sentiment_analysis(set):\n",
    "    \n",
    "    sia = SIA()\n",
    "    results = []\n",
    "\n",
    "    for line in set:\n",
    "        pol_score = sia.polarity_scores(line) #auto sentiment classification that returns dict\n",
    "        pol_score['headline'] = line #store current line as a headline key in dict\n",
    "        results.append(pol_score) #append to results\n",
    "\n",
    "    #creating a dataframe\n",
    "    df = pd.DataFrame.from_records(results)\n",
    "    \n",
    "    #new column label\n",
    "    df['label'] = 0 \n",
    "    df.loc[df['compound'] > 0.2, 'label' ] = 1 #positive\n",
    "    df.loc[df['compound'] < -0.2, 'label'] = -1 #negative\n",
    "\n",
    "    df2 = df[['headline', 'label']]\n",
    "    \n",
    "    return df2"
   ]
  },
  {
   "cell_type": "markdown",
   "id": "9ff0572c-d1d4-4a5a-9201-940ca7717e4c",
   "metadata": {},
   "source": [
    "**B-i. Check Headlines by Label**"
   ]
  },
  {
   "cell_type": "code",
   "execution_count": 88,
   "id": "7f62bb89-ba56-4aa7-b381-689773c048b1",
   "metadata": {},
   "outputs": [],
   "source": [
    "def check_headline(df, value):\n",
    "    \n",
    "    if value == 1:\n",
    "        print('Positive headlines:\\n')\n",
    "        pprint(list(df[df['label'] == 1].headline), width=200)\n",
    "        \n",
    "    elif value == -1:\n",
    "        print('Negative headlines:\\n')\n",
    "        pprint(list(df[df['label'] == -1].headline), width=200)\n",
    "        \n",
    "    elif value == 0:\n",
    "        print('Neutral headlines:\\n')\n",
    "        pprint(list(df[df['label'] == 0].headline), width=200)\n",
    "        \n",
    "    return"
   ]
  },
  {
   "cell_type": "markdown",
   "id": "e221ee22-d096-4853-bd1a-0541dab4bcab",
   "metadata": {
    "tags": []
   },
   "source": [
    "### C. Get Info for Threads\n",
    "note: sorry..."
   ]
  },
  {
   "cell_type": "code",
   "execution_count": 63,
   "id": "4fca2e5e-4d2d-47b4-9bf8-ced2262faa16",
   "metadata": {},
   "outputs": [],
   "source": [
    "def get_thread_info(subreddit, flair):\n",
    "    \n",
    "    final_data = []\n",
    "    header_list = ['id', 'title', 'author', 'url', 'num_upvotes', 'upvote_ratio', 'num_comments', 'date']\n",
    "\n",
    "    for submission in reddit.subreddit(subreddit).search(flair):\n",
    "        val = [submission.id, submission.title, submission.author, submission.url, submission.score, submission.upvote_ratio, submission.num_comments, submission.created_utc] \n",
    "        final_data.add(val) \n",
    "\n",
    "    return final_data"
   ]
  },
  {
   "cell_type": "markdown",
   "id": "f744ce7f-0bc9-4100-9eb5-9e2d1ee576c7",
   "metadata": {},
   "source": [
    "### D. Get Comments from Thread URL\n",
    "\n",
    "**References**\n",
    "* https://praw.readthedocs.io/en/latest/code_overview/models/comment.html"
   ]
  },
  {
   "cell_type": "code",
   "execution_count": 67,
   "id": "5080785d-071b-4aec-a46b-4357f5a628eb",
   "metadata": {},
   "outputs": [],
   "source": [
    "def get_comments(url):\n",
    "    submission = reddit.submission(url=url)\n",
    "    \n",
    "    final_comments = set()\n",
    "    submission.comments.replace_more(limit=0)\n",
    "    \n",
    "    for comment in submission.comments:\n",
    "        final_comments.add(comment.body)\n",
    "    \n",
    "    return final_comments"
   ]
  },
  {
   "cell_type": "markdown",
   "id": "81756e8a-e416-479e-9066-5c4984c8f87e",
   "metadata": {
    "tags": []
   },
   "source": [
    "## Genshin Impact"
   ]
  },
  {
   "cell_type": "code",
   "execution_count": 41,
   "id": "907f3fac-59c1-4723-a7e2-33b2847a0bd9",
   "metadata": {},
   "outputs": [],
   "source": [
    "data = get_thread_titles(\"Genshin_Impact\", \"flair:Discussion\")"
   ]
  },
  {
   "cell_type": "code",
   "execution_count": 49,
   "id": "974f7cc8-e0dc-4e56-899e-93f194f46d98",
   "metadata": {},
   "outputs": [],
   "source": [
    "df = sentiment_analysis(data)"
   ]
  },
  {
   "cell_type": "code",
   "execution_count": 53,
   "id": "dbb99a01-8db9-4f0d-a39c-becb1ff80f0a",
   "metadata": {},
   "outputs": [
    {
     "data": {
      "text/plain": [
       " 0    42\n",
       " 1    35\n",
       "-1    23\n",
       "Name: label, dtype: int64"
      ]
     },
     "execution_count": 53,
     "metadata": {},
     "output_type": "execute_result"
    }
   ],
   "source": [
    "#check number of positive, negative, neutral headlines\n",
    "\n",
    "df.label.value_counts()"
   ]
  },
  {
   "cell_type": "code",
   "execution_count": 60,
   "id": "c633c091-363c-4825-b8b9-973b6cf48974",
   "metadata": {
    "tags": []
   },
   "outputs": [
    {
     "data": {
      "image/png": "[encoded data removed]",
      "text/plain": [
       "<Figure size 800x800 with 1 Axes>"
      ]
     },
     "metadata": {},
     "output_type": "display_data"
    }
   ],
   "source": [
    "fig, ax = plt.subplots(figsize=(8, 8))\n",
    "\n",
    "counts = df.label.value_counts(normalize=True) * 100\n",
    "\n",
    "sns.barplot(x=counts.index, y=counts, ax=ax)\n",
    "\n",
    "ax.set_xticklabels(['Negative', 'Neutral', 'Positive'])\n",
    "ax.set_ylabel('Percentage')\n",
    "\n",
    "plt.show()"
   ]
  },
  {
   "cell_type": "code",
   "execution_count": 89,
   "id": "fa1124e8-2739-4d0a-b081-fe8e55828e7d",
   "metadata": {
    "tags": []
   },
   "outputs": [
    {
     "name": "stdout",
     "output_type": "stream",
     "text": [
      "Negative headlines:\n",
      "\n",
      "['A warning to all future Eula havers',\n",
      " 'Most annoying genre of genshin player has to be the ones who make quitting genshin their entire personality',\n",
      " \"Am I one of a few that grinds a full set of artifacts for each character and doesn't just share them between multiple characters?\",\n",
      " 'Whats the most rage inducing challenge you have encountered ?',\n",
      " 'what is a character that people think is absolutely useless, but you still use anyways?',\n",
      " 'Which Genshin character do you love, but would hate as a person?',\n",
      " 'Excuse the foul language but why the fuck do the cooldowns not reset when retrying abyss???',\n",
      " 'Ever notice there are no more playable adveturers in other regions??',\n",
      " \"What's so horrible about including TCG in an event?\",\n",
      " 'What is y’all’s LEAST favorite thing to do in Genshin',\n",
      " 'there should be more badass outfits for female characters that aren\\'t necessarily \"sexy\"',\n",
      " \"Why Klee and Eula's Revenue is so low: An analysis\",\n",
      " 'what is the worst genshin headcanon youve ever seen/just cant agree with',\n",
      " 'What were some silly things you thought as a low ar?',\n",
      " 'Did you name your Wanderer/Scaramouche something stupid and regretted it?',\n",
      " 'What character DO you plan to stop using?',\n",
      " 'What is the saddest \"death line\" for you?',\n",
      " 'The things that bothers me about Genshin’s writing…',\n",
      " 'Which is the first 50-50 you lost? Who did you get?',\n",
      " 'We seriously need that enemies with elemental shields take 1 health point of damage whenever the shield gets reduced',\n",
      " 'Is it normal to lose 8 50-50 in a row',\n",
      " 'Do you also feel guilt after spending?',\n",
      " 'What Crime Will The Traveller Be Accused Of Committing When They Enter Fontaine?']\n"
     ]
    }
   ],
   "source": [
    "check_headline(df, -1)"
   ]
  },
  {
   "cell_type": "code",
   "execution_count": 90,
   "id": "f32f36ac-9abd-4dc3-949b-1a193c6b0275",
   "metadata": {},
   "outputs": [
    {
     "name": "stdout",
     "output_type": "stream",
     "text": [
      "Positive headlines:\n",
      "\n",
      "[\"How much of sumeru did y'all enjoy? be honest about it\",\n",
      " 'New Spiral Abyss Appreciation Post',\n",
      " 'Friendly reminder to those farming primo gems for Fontaine, TO ALSO Farm Exp Books, no one is going to like having to farm those DURING THE UPDATE.',\n",
      " 'I Want Fontaine To Be More Like Inazuma In Terms of Puzzles.',\n",
      " \"At this point, IMO, Genshin is a prime target for trolls and streamers mainly because we're big and will put up a good fight, not because we're an anime game, a gacha game, nor a game with a bad \"\n",
      " 'fanbase.',\n",
      " 'who else loved the sumeru desert?',\n",
      " 'Rat tails are giving me trust issues',\n",
      " 'Why do vision holder not put the vision in their body',\n",
      " 'Do you like Paimon?',\n",
      " 'As 3.0 update comes to an end who do you think got the biggest buff thanks to dendro',\n",
      " 'Who has the least annoying idle voice lines?',\n",
      " 'Who’s the character you’re most comfortable when using?',\n",
      " 'Genshin Impact is very popular in Russia',\n",
      " 'After completing 3.8, it seems the 2.8 Golden Apple Archipelago was a test to see how the playerbase would react to certain types of content and reshaped the game moving forward.',\n",
      " 'What character you never plan to stop using?',\n",
      " 'Aranara are the best thing that happened to Genshin Impact',\n",
      " 'Version 3.8 Special Preview Program Discussion Thread',\n",
      " 'Veluriyam Mirage is the best Genshin event ever.',\n",
      " \"I don't care what anyone says, Eula is awesome\",\n",
      " 'What is a one character most people like but you don’t?',\n",
      " 'Eula’s long awaited rerun is so heartwarming',\n",
      " \"I sincerely hope that the 4.0 livestream doesn't overly spoil the content.\",\n",
      " 'Who are you most excited for?',\n",
      " 'Which Character do you not regret pulling the most?',\n",
      " \"It's impossible for me to like any other Gacha game or anime games in general after being introduced to HoYo games...\",\n",
      " 'What characters do you genuinely think are fun to play as gameplay wise?',\n",
      " 'what’s the character you like that is popular despite not being “meta”?',\n",
      " 'Who is your Favorite Character by Design?',\n",
      " 'Is Genshin Impact worth playing for the story?',\n",
      " 'Who is the funniest character?',\n",
      " \"Could we fix Physical DMG by giving them a 'bleed' status effect?\",\n",
      " 'Does anyone else feel like this summer event is extremely infantile?',\n",
      " 'Do people really care about skin colour in genshin that much?',\n",
      " \"Which character's secondary outfit is the best?\",\n",
      " 'Which character has your favorite \"opening treasure chest\" voice over?']\n"
     ]
    }
   ],
   "source": [
    "check_headline(df, 1)"
   ]
  },
  {
   "cell_type": "code",
   "execution_count": 68,
   "id": "69f18dde-cbb9-4a30-9857-29a58561b209",
   "metadata": {},
   "outputs": [],
   "source": [
    "comments = get_comments(\"https://www.reddit.com/r/Genshin_Impact/comments/14zgvjg/why_klee_and_eulas_revenue_is_so_low_an_analysis/\")"
   ]
  },
  {
   "cell_type": "code",
   "execution_count": 69,
   "id": "c8d8f44a-37f5-4404-beed-bda8be14e941",
   "metadata": {},
   "outputs": [],
   "source": [
    "dff = sentiment_analysis(comments)"
   ]
  },
  {
   "cell_type": "code",
   "execution_count": 71,
   "id": "3e79a801-c218-40d6-b28e-cec184249917",
   "metadata": {},
   "outputs": [
    {
     "data": {
      "text/plain": [
       " 1    92\n",
       " 0    57\n",
       "-1    54\n",
       "Name: label, dtype: int64"
      ]
     },
     "execution_count": 71,
     "metadata": {},
     "output_type": "execute_result"
    }
   ],
   "source": [
    "#check number of positive, negative, neutral headlines\n",
    "\n",
    "dff.label.value_counts()"
   ]
  },
  {
   "cell_type": "code",
   "execution_count": 72,
   "id": "e6e22d64-f1bf-4e3a-9859-da999de34f1c",
   "metadata": {},
   "outputs": [
    {
     "data": {
      "image/png": "[encoded data removed]",
      "text/plain": [
       "<Figure size 800x800 with 1 Axes>"
      ]
     },
     "metadata": {},
     "output_type": "display_data"
    }
   ],
   "source": [
    "fig, ax = plt.subplots(figsize=(8, 8))\n",
    "\n",
    "counts = dff.label.value_counts(normalize=True) * 100\n",
    "\n",
    "sns.barplot(x=counts.index, y=counts, ax=ax)\n",
    "\n",
    "ax.set_xticklabels(['Negative', 'Neutral', 'Positive'])\n",
    "ax.set_ylabel('Percentage')\n",
    "\n",
    "plt.show()"
   ]
  },
  {
   "cell_type": "code",
   "execution_count": 73,
   "id": "3a0821b7-6493-4c95-8521-0e432ed4f116",
   "metadata": {},
   "outputs": [],
   "source": [
    "dff.to_csv(r'/Users/kirbypark/Desktop/JupyterNotebook/genshin_14zgvjg.csv', index=False)"
   ]
  },
  {
   "cell_type": "code",
   "execution_count": 78,
   "id": "6c011856-b0bd-4b68-880b-2628b646a16e",
   "metadata": {},
   "outputs": [],
   "source": [
    "data2 = get_thread_titles(\"Genshin_Impact\", \"flair_name:\\\":hoyo1::hoyo2: Official Post\\\"\")"
   ]
  },
  {
   "cell_type": "code",
   "execution_count": 80,
   "id": "7b143689-e79e-4ce7-9f77-59134234df62",
   "metadata": {},
   "outputs": [],
   "source": [
    "df2 = sentiment_analysis(data2)"
   ]
  },
  {
   "cell_type": "code",
   "execution_count": 82,
   "id": "4fefcabd-8fe9-456d-a1cb-af92155dd6f1",
   "metadata": {},
   "outputs": [
    {
     "data": {
      "text/plain": [
       " 1    48\n",
       " 0    47\n",
       "-1     5\n",
       "Name: label, dtype: int64"
      ]
     },
     "execution_count": 82,
     "metadata": {},
     "output_type": "execute_result"
    }
   ],
   "source": [
    "#check number of positive, negative, neutral headlines\n",
    "\n",
    "df2.label.value_counts()"
   ]
  },
  {
   "cell_type": "code",
   "execution_count": 91,
   "id": "9c49eb8b-cc40-4217-b983-bcf8b42ba0f9",
   "metadata": {},
   "outputs": [
    {
     "name": "stdout",
     "output_type": "stream",
     "text": [
      "Positive headlines:\n",
      "\n",
      "['\"Secret Summer Paradise\" Version 3.8 Update Maintenance Preview',\n",
      " 'Happy Birthday, Paimon!',\n",
      " 'Version 3.8 Special Program Redemption Codes',\n",
      " '\"Secret Summer Paradise\" Version 3.8 Events Preview - Phase II',\n",
      " \"Paimon's Recommendation: The Hardest Custom Domains from Divine Ingenuity\",\n",
      " 'Happy Birthday, Dehya!',\n",
      " 'Happy Birthday, Hu Tao!',\n",
      " 'Happy Birthday, Shikanoin Heizou!',\n",
      " 'Happy Birthday, Arataki Itto!',\n",
      " 'Happy Birthday, Yun Jin!',\n",
      " \"Fan Art Collection: Yae Miko's surprise delivery\",\n",
      " 'Happy Birthday, Venti!',\n",
      " 'Happy Birthday, Yae Miko!',\n",
      " 'Happy Birthday, Yanfei!',\n",
      " 'Happy Birthday, Collei!',\n",
      " 'Travelers, the official Genshin Impact Genius Invokation TCG Duel Event has begun! Come check out the exciting content~',\n",
      " 'Dear Travelers, the event wishes \"The Moongrass\\' Enlightenment,\" \"Twirling Lotus,\" and \"Epitome Invocation\" will be available on April 12!',\n",
      " 'Happy Birthday, Klee!',\n",
      " 'Happy Birthday, Kuki Shinobu!',\n",
      " 'Happy Birthday, Lisa!',\n",
      " 'Happy Birthday, Gorou!',\n",
      " 'Dear Travelers, the Version 3.8 Special Program will begin in 2 hours!',\n",
      " 'Version 3.8 Special Program Preview',\n",
      " 'Happy Birthday, Tartaglia!',\n",
      " 'Version 3.6 Special Program Preview',\n",
      " 'Happy Birthday, Yoimiya!',\n",
      " 'Happy Birthday, Kaveh!',\n",
      " 'Fan Art Collection: Bottleland Miniature Map',\n",
      " 'Version 3.7 Special Program Preview',\n",
      " '\"Divine Ingenuity: Collector\\'s Chapter\" Gameplay Overview | Genshin Impact',\n",
      " \"Hehe, there are so many goodies here! Paimon can't wait to try them all! Whoa, there's so many people here! Looks like we're the last ones to arrive.\",\n",
      " 'Happy Birthday, Barbara!',\n",
      " 'Happy Birthday, Yelan!',\n",
      " 'Genshin Impact Summer Festival 2023 Promotional Video',\n",
      " 'Happy Birthday, Diluc!',\n",
      " 'Happy Birthday, Kujou Sara!',\n",
      " 'Congratulations to r/Genshin_Impact on reaching 2 million members!',\n",
      " '\"Psst, c\\'mon, let\\'s sneak off on an adventure! But nobody else can know.\" — Kaeya\\'s Outfit \"Sailwind Shadow\"',\n",
      " 'Veluriyam Mirage Adventure Invitation – Introducing the Version 3.8 Limited-Time Area',\n",
      " 'Happy Birthday, Fischl!',\n",
      " 'Dear Travelers, the event wishes \"The Transcendent One Returns,\" \"The Heron\\'s Court,\" and \"Epitome Invocation\" will be available on March 21!',\n",
      " \"Yea! Let's go on a big adventure!\",\n",
      " 'Happy Birthday, Raiden Shogun!',\n",
      " 'Lynette: Elegance in the Shadows',\n",
      " '\"Klee-fi-fo-fum, I\\'m a mage just like my mom!\" — Klee\\'s Outfit \"Blossoming Starlight\"',\n",
      " 'Dear Travelers, the event wishes \"Immaculate Pulse,\" \"Adrift in the Harbor,\" and \"Epitome Invocation\" will be available on May 2!',\n",
      " 'Happy Birthday, Candace!',\n",
      " 'Happy Birthday, Cyno!']\n"
     ]
    }
   ],
   "source": [
    "check_headline(df2, 1)"
   ]
  },
  {
   "cell_type": "code",
   "execution_count": 92,
   "id": "7381814b-eda6-4439-a895-2d43249bae88",
   "metadata": {},
   "outputs": [],
   "source": [
    "comments2 = get_comments(\"https://www.reddit.com/r/Genshin_Impact/comments/14p8g2w/overture_teaser_the_final_feast_genshin_impact/\")"
   ]
  },
  {
   "cell_type": "code",
   "execution_count": 96,
   "id": "b90ec028-0fa2-4fd8-b8f8-4f56a8f1cdc5",
   "metadata": {},
   "outputs": [],
   "source": [
    "dff2 = sentiment_analysis(comments2)"
   ]
  },
  {
   "cell_type": "code",
   "execution_count": 97,
   "id": "55ec960d-462e-4f73-97f4-e6adf9041d52",
   "metadata": {},
   "outputs": [
    {
     "data": {
      "text/plain": [
       " 1    62\n",
       " 0    42\n",
       "-1    23\n",
       "Name: label, dtype: int64"
      ]
     },
     "execution_count": 97,
     "metadata": {},
     "output_type": "execute_result"
    }
   ],
   "source": [
    "dff2.label.value_counts()"
   ]
  },
  {
   "cell_type": "code",
   "execution_count": 98,
   "id": "4baf51cd-3f93-44f3-826b-cd4a26d6a6ec",
   "metadata": {},
   "outputs": [
    {
     "data": {
      "image/png": "[encoded data removed]",
      "text/plain": [
       "<Figure size 800x800 with 1 Axes>"
      ]
     },
     "metadata": {},
     "output_type": "display_data"
    }
   ],
   "source": [
    "fig, ax = plt.subplots(figsize=(8, 8))\n",
    "\n",
    "counts = dff2.label.value_counts(normalize=True) * 100\n",
    "\n",
    "sns.barplot(x=counts.index, y=counts, ax=ax)\n",
    "\n",
    "ax.set_xticklabels(['Negative', 'Neutral', 'Positive'])\n",
    "ax.set_ylabel('Percentage')\n",
    "\n",
    "plt.show()"
   ]
  },
  {
   "cell_type": "code",
   "execution_count": 103,
   "id": "0cda02be-a5c5-43d6-ad2e-12170d42dff3",
   "metadata": {},
   "outputs": [],
   "source": [
    "#for nexon game bc im curious\n",
    "\n",
    "c = get_comments(\"https://www.reddit.com/r/Maplestory/comments/14y59pu/v243_savior_shangrila_kaling_update_preview/\")"
   ]
  },
  {
   "cell_type": "code",
   "execution_count": 104,
   "id": "34dbbf1c-2572-4fa6-b62d-ef22a9635a36",
   "metadata": {},
   "outputs": [],
   "source": [
    "d = sentiment_analysis(c)"
   ]
  },
  {
   "cell_type": "code",
   "execution_count": 105,
   "id": "2c15509d-0d8d-45d7-bcb8-f703cad86370",
   "metadata": {},
   "outputs": [
    {
     "data": {
      "text/plain": [
       " 0    9\n",
       " 1    6\n",
       "-1    4\n",
       "Name: label, dtype: int64"
      ]
     },
     "execution_count": 105,
     "metadata": {},
     "output_type": "execute_result"
    }
   ],
   "source": [
    "d.label.value_counts()"
   ]
  },
  {
   "cell_type": "code",
   "execution_count": 106,
   "id": "8a620982-42ab-488b-a9ed-426d9075bbb2",
   "metadata": {},
   "outputs": [
    {
     "data": {
      "image/png": "[encoded data removed]",
      "text/plain": [
       "<Figure size 800x800 with 1 Axes>"
      ]
     },
     "metadata": {},
     "output_type": "display_data"
    }
   ],
   "source": [
    "fig, ax = plt.subplots(figsize=(8, 8))\n",
    "\n",
    "counts = d.label.value_counts(normalize=True) * 100\n",
    "\n",
    "sns.barplot(x=counts.index, y=counts, ax=ax)\n",
    "\n",
    "ax.set_xticklabels(['Negative', 'Neutral', 'Positive'])\n",
    "ax.set_ylabel('Percentage')\n",
    "\n",
    "plt.show()"
   ]
  },
  {
   "cell_type": "code",
   "execution_count": 108,
   "id": "43f18a9c-096a-4b35-b317-38793c41397c",
   "metadata": {},
   "outputs": [
    {
     "name": "stdout",
     "output_type": "stream",
     "text": [
      "Positive headlines:\n",
      "\n",
      "['So this event is starting next week? To help with current hyper burn char? Or do we get another hyper burn for this update? Also I there gonna be another burn for 260 later? It seems like a lot of '\n",
      " 'rewards to give our current hyper burn.',\n",
      " '1200 nodes tucked away in 3 pixels lol',\n",
      " 'Is this best event ever territory? These rewards are crazy.',\n",
      " 'Had been waiting for a burning for temp CRA but a fake arcane would be nice to start a new character with lol',\n",
      " 'what is that yellow colored growth potion?',\n",
      " \"Oh when's this coming? I thought it was gunna be like July 28 for some reason, is this next week?\"]\n"
     ]
    }
   ],
   "source": [
    "check_headline(d, 1)"
   ]
  },
  {
   "cell_type": "code",
   "execution_count": 109,
   "id": "b0e94ba5-5fe3-4b5b-92a7-778b9b0d82ff",
   "metadata": {},
   "outputs": [
    {
     "name": "stdout",
     "output_type": "stream",
     "text": [
      "Positive headlines:\n",
      "\n",
      "[\"Wow, some of the designs have the sleeves attached to the body. Fontaine's technology truly is advanced.\",\n",
      " 'PLEASE let this style of music persist throughout Fontaine. Can you imagine exploring the overworld to this jam? Honestly the best part of the whole trailer for me (after arle ofc)',\n",
      " 'Fontaine character desgins really showcasing Hoyoverse’s Honkai Impact 3rd aesthetics into the limelight. Not a bad thing, I’m all for that.',\n",
      " 'Neuvillette 100% has the expression of a man done with Focalors’ shit. And I’m so excited to see the dynamic between Arlecchino, Lyney, and Lynette! Wow!',\n",
      " 'Hoping for clorinde, arlecchino, neuvillete and focalors',\n",
      " \"AYOOOOO!! I'M WET! \\n\\nChief Justice Nuevillete, Furina (Focalor), and Captain R I'll be pulling for. Arlecchino maybe.\",\n",
      " 'OH MY GOD',\n",
      " \"I'm ready to wait for Arlecchino\",\n",
      " \"I can't wait for Arlecchino to be playable. Fellow harbinger collectors let's hope hoyo doesn't kill her off >!like Signora.!<\",\n",
      " 'Potentially a blind playable character???? Oooo my saved up primo gems are shaking. All those spiffy designs are super eye catching tho….the f2p struggles egh',\n",
      " 'Surely Arlecchino will be playable',\n",
      " \"Ain't no way they made a french goth Sampo Koski\",\n",
      " 'LYNEY MY BELOVED',\n",
      " 'No kidding, every character is very attractive. Fontaine will be hard on my wallet. Gotta start to pray RNGesus.',\n",
      " \"My god this is so classy! This is going to be another banger! I'm so excited!\",\n",
      " \"Can't stop replaying it. Almost doesn't feel real because we've waited so long\",\n",
      " 'I tell you when I heard Neuvilette’s voice I literally squealed like a kid in a toy store. LET’S GO RAY CHASE!!',\n",
      " \"Focalors sounds like an unhinged brat and I'm all for it.\",\n",
      " 'Even WITH leaks i saw months before it STILL made me hyped.  \\nIts just how they represent these things so well.',\n",
      " 'JP voice cast:\\n'\n",
      " '\\n'\n",
      " \"Freminet — Shun'ichi Toki\\n\"\n",
      " '\\n'\n",
      " 'Egeria — Sayuri Yahagi\\n'\n",
      " '\\n'\n",
      " 'Lyney — Hiro Shimono\\n'\n",
      " '\\n'\n",
      " 'Lynette — Yū Sasahara\\n'\n",
      " '\\n'\n",
      " 'Navia — Aki Toyosaki\\n'\n",
      " '\\n'\n",
      " 'Charlotte — Azumi Waki\\n'\n",
      " '\\n'\n",
      " 'Wriothesley — Daisuke Ono\\n'\n",
      " '\\n'\n",
      " 'Sigewinne — Hina Kino\\n'\n",
      " '\\n'\n",
      " 'Clorinde — Yui Ishikawa\\n'\n",
      " '\\n'\n",
      " '\"The Knave\" Arlecchino — Nanako Mori\\n'\n",
      " '\\n'\n",
      " 'Furina — Inori Minase\\n'\n",
      " '\\n'\n",
      " 'Neuvillette — Hiroshi Kamiya',\n",
      " 'The Hydro Archon (i assume the last girl) sounds like an absolute brat ! Finally a breathe of fresh air.\\n\\nA god who acts entitled !',\n",
      " \"If the Fontaine music has some jazzy tunes like the one in this video it'll instantaneously become my favourite region\\n\"\n",
      " '\\n'\n",
      " \"It's unreal how excited I am after this trailer. I need the woman with the gun now. She looks like anime Bloodborne and I'm here for it\",\n",
      " 'Thank god next 2 banners are skipable to save enough for next archon.',\n",
      " 'yes yes yes yes YES',\n",
      " 'The ending was super creepy. Loved it.',\n",
      " 'parts of this trailer are giving off alice in wonderland vibes and im alll here for it',\n",
      " 'I love how we cannot figure out which element these people have! Unlike most cases where if you wear green, you’re automatically Dendro or Anemo.',\n",
      " '\\\\*random Fontaine characters show up\\\\*\\n\\n“This is a pretty cool trailer, I bet Fontaine will be fun.”\\n\\n\\\\*Arlecchino shows up\\\\*\\n\\n“My hype is immeasurable and my day is made.”',\n",
      " 'Can’t believe I’m back to Genshin because of the allure of one character (Arlecchino looks so fucking good I am malfunctioning)',\n",
      " 'I need Lyney like literally yesterday.',\n",
      " 'Do you hear that fellow travelers, it looks like we are going to be Jazzing in Fontaine. The battle theme promises to be glorious.',\n",
      " \"Man, this is very specific fave of mine but I like parasol-wielding characters and Navia using one is making me hope that she'll be utilizing it in her kit.\\n\"\n",
      " '\\n'\n",
      " '# PLEASE LEMME WHACK HILICHURLS AND GLIDE WITH MAH PARASOL LIKE PRINCESS PEACH PLEAAAASSE',\n",
      " \"Inori Minase my beloved. Can't believe my favourite VA is voicing an Archon!!\",\n",
      " 'CAPTAIN R and BLACK HAIRED GUY LOOK SO GOOD',\n",
      " \"Who's Egeria btw, they're not showing in the teaser? Also, is Wriothesely blind? It looks like he was trying to make out where the cup was with his hand in that scene.\",\n",
      " 'Huh. I thought this was supposed to be the French region, but there’s clearly an American here.',\n",
      " 'FURINA MY BELOVED. She sounds like a bored child I love it\\n'\n",
      " '\\n'\n",
      " 'Also Believe me or not but like 2 years ago I was having a talk with my friend ,that especially loves the JP voice actors, about which seiyuus that we want to see in Genshin in important roles and '\n",
      " 'I was saying that I wanted Tamura Yukari and Minase Inori as archons, with Minase Inori hopefully being the Hydro archon, then expressed my sadness that it would not happen since Qiqi already had '\n",
      " \"Tamura Yukari and as far as I know Minase Inori is not a prominent Honkai Impact voice actor so the Hydro archon would probably have Seele's voice actor....\\n\"\n",
      " '\\n'\n",
      " 'And IT HAPPENED. Nahida is Tamura Yukari (my beloved Furude Rika) and Furina is Minase Inori (My beloved murderer of miracles Carol) It FUCKIN HAPPENED. Somehow the exact two voice actor I wished '\n",
      " \"for got the roles that I wanted. Now If Tsaritsa is Bronya's VA my archon seiyuu dream list would be absolutely perfect\",\n",
      " \"wow I didn't know there was an official genshin impact reddit account now, this trailer was amazing as always.\\n\"\n",
      " '\\n'\n",
      " \"The hype for every region before they come out is the best part of this game, a whole new cast of characters is always lovely to see, also can't wait to find out what the hydro archon does.\\n\"\n",
      " '\\n'\n",
      " \"honestly it still hasn't hit me that we're through with Sumeru, it felt short, but also super in depth.\",\n",
      " 'I feel like it is a new game. Everything is upgraded. It will be hard to go back to the old regions.',\n",
      " \"NGL I wasn't sold on a lot of the Fontaine designs before but this sold me lol\\n\\nSay what you will about MHY but they never fail to deliver on the production front.\",\n",
      " \"Anyone kinda got the hint in Arle's speech?\\n\"\n",
      " '\\n'\n",
      " 'She is planning to, or is already, acting herself. On a grand scale. \\n'\n",
      " '\\n'\n",
      " 'So fooling the Fatui to then join us, or will pretend to defect, etc.\\n'\n",
      " '\\n'\n",
      " 'Interesting!!!',\n",
      " 'Yep.\\n\\nFontaine is going to be the best region.',\n",
      " 'According to the teaser’s list of characters for VA credits, we have:\\n'\n",
      " '\\n'\n",
      " 'Freminet - Paul Castro Jr.\\n'\n",
      " '\\n'\n",
      " 'Egeria - Courtney Steele\\n'\n",
      " '\\n'\n",
      " 'Lyney - Daman Mills\\n'\n",
      " '\\n'\n",
      " 'Lynette - Anairis Quiñones\\n'\n",
      " '\\n'\n",
      " 'Navia - Brenna Larsen\\n'\n",
      " '\\n'\n",
      " 'Charlotte - Maya Aoki Tuttle\\n'\n",
      " '\\n'\n",
      " 'Wriothesley - Joe Zieja\\n'\n",
      " '\\n'\n",
      " 'Sigewinne - Sarah Williams\\n'\n",
      " '\\n'\n",
      " 'Clorinde - Crystal Lee\\n'\n",
      " '\\n'\n",
      " 'Arlecchino (“The Knave”) - Erin Yvette\\n'\n",
      " '\\n'\n",
      " 'Furina - Amber Lee Connors\\n'\n",
      " '\\n'\n",
      " 'Neuvillette - Ray Chase\\n'\n",
      " '\\n'\n",
      " 'I should note, I have zero knowledge of the English VA industry so I have no idea how hype some of these people getting roles are but I’m sure they’re all great',\n",
      " \"Man I'm so glad I didn't look at leaks, the characters look amazing!\",\n",
      " \"Oh yeah. We're definitely going to need Yanfei for the trial.\",\n",
      " 'I think I’m most excited for the dynamic between the Chief Justice and Focalors! Focalors seems a bit annoying to deal with and he did call her prone to hysterics in Nahida’s drip marketing while '\n",
      " 'Neuvillette seems like an Alhaitham type of character haha.',\n",
      " \"Hoyo gets better and better every time, i honestly cant imagine the quality by the time we're in snez\",\n",
      " \"I'm surprised, I thought Arlecchino had shorter hair. Also,  Sandrone with The Marionette aren't getting featured?\",\n",
      " \"GENSHIN IMPACT YOU CAN'T JUST REVEAL SO MANY FONTAINE CHARACTERS SO CASUALLY LIKE THIS\",\n",
      " 'What I like about this teaser is that it retroactively explains Mona’s mannerisms. Ever since her first appearance from all the way back in 1.1, she was different in how she presented herself from '\n",
      " 'the others. Her accent and her dramatic flair, turns out to be a cultural quirk, due to Fontanian’s love of seeing their lives as a one big stage and they the actors. It’s amazing that her voice '\n",
      " 'direction went that far back with that idea in mind.',\n",
      " 'Lol the cup scene at 1:21 is so cute! Love that this short trailer shows so much personality of each character! Super hyped for the new region!',\n",
      " 'Ngl kinda hilarious that Lyney and Blade share a VA lol.\\n\\nAmazing voice cast overall though, compared to Sumeru a lot more well-known VAs in the anime dubbing industry.',\n",
      " 'Im so glad I stayed up tonight',\n",
      " 'LYNEY MY LOVE OMGGG HES SO AMAZING IN EVERY WAY AHHHHH',\n",
      " \"Neuvillete being voiced by Kamiya Hiroshi is an immense power-move given he's the most expensive male VA in the industry, plus the other tall guy being voiced by his IRL best friend Daisuke Ono\",\n",
      " 'Okay who is that hot looking goth guy',\n",
      " \"I \\\\*love\\\\* the music style they're going with for Fontaine. Hope we get another orchestra live with more of the new region's music! And the character designs look so nice so far.\\n\"\n",
      " '\\n'\n",
      " 'Also, holy shit the JP voice cast?! Kamiya Hiroshi, Ishikawa Yui, Ono Daisuke, Shimono Hino ?! Whaaat?!\\n'\n",
      " '\\n'\n",
      " '**EDIT** I know people here are worried about their wallets but please know that some of the JP VAs feel the same. Case and point, [Murase Ayumu '\n",
      " '(Venti)](https://twitter.com/murase_pipipi/status/1675722545922985984)',\n",
      " 'GOD PRE REGION RELEASE HYPE IS SO GOOD\\n'\n",
      " '\\n'\n",
      " 'Also some amazing VAs coming to the cast, in EN we got Claude (FE) and Noctis (FF15), and in JP we got 2B, Rem, Erwin, and Araragi. Stacked AF.\\n'\n",
      " '\\n'\n",
      " 'So hype to see the new steampunk areas and listen to JAZZY FRENCH MUSIC',\n",
      " 'Back to grinding ig 💀. The character designs are so good 😭',\n",
      " 'Enjoy a rapturous ode sung in reverse,  \\n'\n",
      " 'Enjoy a whirling waltz drowning in tears of joy and sorrow,  \\n'\n",
      " 'Enjoy a magical performance for which none shall applaud...\\n'\n",
      " '\\n'\n",
      " 'The actors have taken the stage, the audience have taken their seats,  \\n'\n",
      " 'So let us enjoy it all, right until the final curtain call.\\n'\n",
      " '\\n'\n",
      " '---\\n'\n",
      " '\\n'\n",
      " '[YouTube version](https://youtu.be/9SbgmM3mSps)',\n",
      " \"God I'm hoping that Arlecchinno doesn't die or at least doesn't get Signora'ed. She's so goddamn cool, and we've been missing a cool, antagonistic female villain. She has so much potential. Please \"\n",
      " 'MHY',\n",
      " 'As a lawyer who plays genshin I am SO hyped for this region. 🙌 also please give us tall male lawyer characters ❤️❤️❤️']\n"
     ]
    }
   ],
   "source": [
    "check_headline(dff2, 1)"
   ]
  },
  {
   "cell_type": "code",
   "execution_count": null,
   "id": "ce0548e9-9a23-4340-a5d3-50a54a881592",
   "metadata": {},
   "outputs": [],
   "source": []
  }
 ],
 "metadata": {
  "kernelspec": {
   "display_name": "Python 3 (ipykernel)",
   "language": "python",
   "name": "python3"
  },
  "language_info": {
   "codemirror_mode": {
    "name": "ipython",
    "version": 3
   },
   "file_extension": ".py",
   "mimetype": "text/x-python",
   "name": "python",
   "nbconvert_exporter": "python",
   "pygments_lexer": "ipython3",
   "version": "3.10.9"
  }
 },
 "nbformat": 4,
 "nbformat_minor": 5
}
