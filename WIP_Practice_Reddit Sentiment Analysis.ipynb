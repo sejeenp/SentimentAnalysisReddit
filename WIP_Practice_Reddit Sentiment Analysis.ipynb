{
 "cells": [
  {
   "cell_type": "markdown",
   "id": "4b41cf27-c661-4756-81ba-fe7ff5206d14",
   "metadata": {
    "tags": []
   },
   "source": [
    "# Reddit Sentiment Analysis Project (Practice)\n",
    "\n",
    "Modified sour\n",
    "ce code by Patrick Loeber.\n",
    "\n",
    "source code: https://www.youtube.com/watch?v=8VZhog5C3bU"
   ]
  },
  {
   "cell_type": "code",
   "execution_count": 1,
   "id": "dff386b0-6525-4e1b-98fc-acbc5d903f76",
   "metadata": {},
   "outputs": [],
   "source": [
    "from pprint import pprint\n",
    "import pandas as pd\n",
    "import numpy as np\n",
    "import matplotlib.pyplot as plt\n",
    "import seaborn as sns"
   ]
  },
  {
   "cell_type": "code",
   "execution_count": 2,
   "id": "4f9f914f-08b2-46aa-947d-0f798e3ddeb7",
   "metadata": {},
   "outputs": [],
   "source": [
    "import praw\n",
    "\n",
    "user_agent = \"PracticeScraper 1.0 by /u/lmluk\"\n",
    "reddit = praw.Reddit(\n",
    "    client_id=\"I7UtuKPLzIkEATK-e42-cg\",\n",
    "    client_secret=\"9K6fKvSbvO6o3fW0rNzxGpnHFnTeWw\",\n",
    "    user_agent=user_agent\n",
    ")"
   ]
  },
  {
   "cell_type": "markdown",
   "id": "18d35170-96bd-47d2-b46b-dab197817721",
   "metadata": {
    "tags": []
   },
   "source": [
    "## Scraping Subreddit\n",
    "Using PRAW to scrape data from subreddits.\n",
    "Export to csv file.\n",
    "\n",
    "reference: https://praw.readthedocs.io/en/latest/code_overview/models/submission.html"
   ]
  },
  {
   "cell_type": "code",
   "execution_count": 3,
   "id": "4b02a3d4-12c6-4701-926c-0ec6cfbf9a98",
   "metadata": {},
   "outputs": [
    {
     "name": "stdout",
     "output_type": "stream",
     "text": [
      "629\n"
     ]
    }
   ],
   "source": [
    "#hot new rising top\n",
    "\n",
    "headlines = set()\n",
    "for submission in reddit.subreddit('Genshin_Impact').hot(limit=None):\n",
    "    headlines.add(submission.title)\n",
    "print(len(headlines))"
   ]
  },
  {
   "cell_type": "code",
   "execution_count": 41,
   "id": "a8610633-9f05-4027-84c5-1720c99e82a4",
   "metadata": {},
   "outputs": [],
   "source": [
    "#pay to win, top\n",
    "\n",
    "p2w_headlines = set()\n",
    "for submission in reddit.subreddit('Genshin_Impact').search('pay to win'):\n",
    "    p2w_headlines.add(submission.title)"
   ]
  },
  {
   "cell_type": "code",
   "execution_count": 42,
   "id": "90bff97f-9e36-4bbf-8690-59666c78f740",
   "metadata": {},
   "outputs": [
    {
     "data": {
      "text/html": [
       "<div>\n",
       "<style scoped>\n",
       "    .dataframe tbody tr th:only-of-type {\n",
       "        vertical-align: middle;\n",
       "    }\n",
       "\n",
       "    .dataframe tbody tr th {\n",
       "        vertical-align: top;\n",
       "    }\n",
       "\n",
       "    .dataframe thead th {\n",
       "        text-align: right;\n",
       "    }\n",
       "</style>\n",
       "<table border=\"1\" class=\"dataframe\">\n",
       "  <thead>\n",
       "    <tr style=\"text-align: right;\">\n",
       "      <th></th>\n",
       "      <th>0</th>\n",
       "    </tr>\n",
       "  </thead>\n",
       "  <tbody>\n",
       "    <tr>\n",
       "      <th>0</th>\n",
       "      <td>If all of the members of a single element team...</td>\n",
       "    </tr>\n",
       "    <tr>\n",
       "      <th>1</th>\n",
       "      <td>Do you think Genshin has been underappreciated...</td>\n",
       "    </tr>\n",
       "    <tr>\n",
       "      <th>2</th>\n",
       "      <td>Lumine's life as the Traveler is not easy for ...</td>\n",
       "    </tr>\n",
       "    <tr>\n",
       "      <th>3</th>\n",
       "      <td>Spin to Win (can someone with decent builds pl...</td>\n",
       "    </tr>\n",
       "    <tr>\n",
       "      <th>4</th>\n",
       "      <td>This game will suffer with the inevitable rise...</td>\n",
       "    </tr>\n",
       "    <tr>\n",
       "      <th>5</th>\n",
       "      <td>Genshin monetization system and how to enjoy t...</td>\n",
       "    </tr>\n",
       "    <tr>\n",
       "      <th>6</th>\n",
       "      <td>Are we sleeping on the Blackcliff set?</td>\n",
       "    </tr>\n",
       "    <tr>\n",
       "      <th>7</th>\n",
       "      <td>HoYoverse statement regarding the missing VA p...</td>\n",
       "    </tr>\n",
       "    <tr>\n",
       "      <th>8</th>\n",
       "      <td>Not meta card but it was fun Noelle, Xinqui/Ni...</td>\n",
       "    </tr>\n",
       "    <tr>\n",
       "      <th>9</th>\n",
       "      <td>In case you didnt know you should lock the dar...</td>\n",
       "    </tr>\n",
       "  </tbody>\n",
       "</table>\n",
       "</div>"
      ],
      "text/plain": [
       "                                                   0\n",
       "0  If all of the members of a single element team...\n",
       "1  Do you think Genshin has been underappreciated...\n",
       "2  Lumine's life as the Traveler is not easy for ...\n",
       "3  Spin to Win (can someone with decent builds pl...\n",
       "4  This game will suffer with the inevitable rise...\n",
       "5  Genshin monetization system and how to enjoy t...\n",
       "6             Are we sleeping on the Blackcliff set?\n",
       "7  HoYoverse statement regarding the missing VA p...\n",
       "8  Not meta card but it was fun Noelle, Xinqui/Ni...\n",
       "9  In case you didnt know you should lock the dar..."
      ]
     },
     "execution_count": 42,
     "metadata": {},
     "output_type": "execute_result"
    }
   ],
   "source": [
    "df2 = pd.DataFrame(p2w_headlines)\n",
    "df2.head(10)"
   ]
  },
  {
   "cell_type": "code",
   "execution_count": 43,
   "id": "c3fbe3b9-11ac-498a-824e-df0c8d4c817b",
   "metadata": {},
   "outputs": [],
   "source": [
    "#dump to CSV file\n",
    "\n",
    "df2.to_csv(r'/Users/kirbypark/Desktop/JupyterNotebook/p2w_headlines.csv', index=False, header=True)"
   ]
  },
  {
   "cell_type": "markdown",
   "id": "10b95abe-1662-4fe0-9b1f-e3620aa598ef",
   "metadata": {
    "tags": []
   },
   "source": [
    "## Sentiment Analysis\n",
    "Using nltk to tell whether a post has been received positively, negatively, or neutrally by the community."
   ]
  },
  {
   "cell_type": "code",
   "execution_count": 44,
   "id": "b7c92b43-0101-4ef9-9ae0-94da8e0e9513",
   "metadata": {
    "tags": []
   },
   "outputs": [
    {
     "name": "stderr",
     "output_type": "stream",
     "text": [
      "[nltk_data] Downloading package vader_lexicon to\n",
      "[nltk_data]     /Users/kirbypark/nltk_data...\n",
      "[nltk_data]   Package vader_lexicon is already up-to-date!\n"
     ]
    },
    {
     "data": {
      "text/plain": [
       "True"
      ]
     },
     "execution_count": 44,
     "metadata": {},
     "output_type": "execute_result"
    }
   ],
   "source": [
    "import nltk\n",
    "nltk.download('vader_lexicon')"
   ]
  },
  {
   "cell_type": "code",
   "execution_count": 45,
   "id": "a56fa2d3-154c-4501-929d-9c197a05b552",
   "metadata": {},
   "outputs": [
    {
     "name": "stdout",
     "output_type": "stream",
     "text": [
      "[{'compound': 0.296,\n",
      "  'headline': 'If all of the members of a single element teamed up and had to fight the other '\n",
      "              'groups of elements, which one would win?',\n",
      "  'neg': 0.095,\n",
      "  'neu': 0.766,\n",
      "  'pos': 0.139},\n",
      " {'compound': 0.0,\n",
      "  'headline': 'Do you think Genshin has been underappreciated overtime?',\n",
      "  'neg': 0.0,\n",
      "  'neu': 1.0,\n",
      "  'pos': 0.0},\n",
      " {'compound': 0.3376,\n",
      "  'headline': \"Lumine's life as the Traveler is not easy for her trying to reunite with her \"\n",
      "              'Brother, but with Paimon and her allies by her side, it helps pay the bills!',\n",
      "  'neg': 0.097,\n",
      "  'neu': 0.794,\n",
      "  'pos': 0.109}]\n"
     ]
    }
   ],
   "source": [
    "from nltk.sentiment.vader import SentimentIntensityAnalyzer as SIA\n",
    "\n",
    "sia = SIA()\n",
    "results = []\n",
    "\n",
    "for line in p2w_headlines:\n",
    "    pol_score = sia.polarity_scores(line) #auto sentiment classification that returns dict\n",
    "    pol_score['headline'] = line #store current line as a headline key in dict\n",
    "    results.append(pol_score) #append to results\n",
    "    \n",
    "pprint(results[:3], width=100) #append first 3 results to see what it looks like"
   ]
  },
  {
   "cell_type": "code",
   "execution_count": 46,
   "id": "1fafa1d5-cee2-447e-8819-0e701fd524ea",
   "metadata": {},
   "outputs": [
    {
     "data": {
      "text/html": [
       "<div>\n",
       "<style scoped>\n",
       "    .dataframe tbody tr th:only-of-type {\n",
       "        vertical-align: middle;\n",
       "    }\n",
       "\n",
       "    .dataframe tbody tr th {\n",
       "        vertical-align: top;\n",
       "    }\n",
       "\n",
       "    .dataframe thead th {\n",
       "        text-align: right;\n",
       "    }\n",
       "</style>\n",
       "<table border=\"1\" class=\"dataframe\">\n",
       "  <thead>\n",
       "    <tr style=\"text-align: right;\">\n",
       "      <th></th>\n",
       "      <th>neg</th>\n",
       "      <th>neu</th>\n",
       "      <th>pos</th>\n",
       "      <th>compound</th>\n",
       "      <th>headline</th>\n",
       "    </tr>\n",
       "  </thead>\n",
       "  <tbody>\n",
       "    <tr>\n",
       "      <th>0</th>\n",
       "      <td>0.095</td>\n",
       "      <td>0.766</td>\n",
       "      <td>0.139</td>\n",
       "      <td>0.2960</td>\n",
       "      <td>If all of the members of a single element team...</td>\n",
       "    </tr>\n",
       "    <tr>\n",
       "      <th>1</th>\n",
       "      <td>0.000</td>\n",
       "      <td>1.000</td>\n",
       "      <td>0.000</td>\n",
       "      <td>0.0000</td>\n",
       "      <td>Do you think Genshin has been underappreciated...</td>\n",
       "    </tr>\n",
       "    <tr>\n",
       "      <th>2</th>\n",
       "      <td>0.097</td>\n",
       "      <td>0.794</td>\n",
       "      <td>0.109</td>\n",
       "      <td>0.3376</td>\n",
       "      <td>Lumine's life as the Traveler is not easy for ...</td>\n",
       "    </tr>\n",
       "    <tr>\n",
       "      <th>3</th>\n",
       "      <td>0.000</td>\n",
       "      <td>0.596</td>\n",
       "      <td>0.404</td>\n",
       "      <td>0.7269</td>\n",
       "      <td>Spin to Win (can someone with decent builds pl...</td>\n",
       "    </tr>\n",
       "    <tr>\n",
       "      <th>4</th>\n",
       "      <td>0.259</td>\n",
       "      <td>0.741</td>\n",
       "      <td>0.000</td>\n",
       "      <td>-0.5423</td>\n",
       "      <td>This game will suffer with the inevitable rise...</td>\n",
       "    </tr>\n",
       "  </tbody>\n",
       "</table>\n",
       "</div>"
      ],
      "text/plain": [
       "     neg    neu    pos  compound  \\\n",
       "0  0.095  0.766  0.139    0.2960   \n",
       "1  0.000  1.000  0.000    0.0000   \n",
       "2  0.097  0.794  0.109    0.3376   \n",
       "3  0.000  0.596  0.404    0.7269   \n",
       "4  0.259  0.741  0.000   -0.5423   \n",
       "\n",
       "                                            headline  \n",
       "0  If all of the members of a single element team...  \n",
       "1  Do you think Genshin has been underappreciated...  \n",
       "2  Lumine's life as the Traveler is not easy for ...  \n",
       "3  Spin to Win (can someone with decent builds pl...  \n",
       "4  This game will suffer with the inevitable rise...  "
      ]
     },
     "execution_count": 46,
     "metadata": {},
     "output_type": "execute_result"
    }
   ],
   "source": [
    "#creating a dataframe\n",
    "\n",
    "df2 = pd.DataFrame.from_records(results)\n",
    "df2.head()"
   ]
  },
  {
   "cell_type": "code",
   "execution_count": 48,
   "id": "32ff1e20-f2e6-4a70-9678-8c63bf5f73fa",
   "metadata": {},
   "outputs": [
    {
     "data": {
      "text/html": [
       "<div>\n",
       "<style scoped>\n",
       "    .dataframe tbody tr th:only-of-type {\n",
       "        vertical-align: middle;\n",
       "    }\n",
       "\n",
       "    .dataframe tbody tr th {\n",
       "        vertical-align: top;\n",
       "    }\n",
       "\n",
       "    .dataframe thead th {\n",
       "        text-align: right;\n",
       "    }\n",
       "</style>\n",
       "<table border=\"1\" class=\"dataframe\">\n",
       "  <thead>\n",
       "    <tr style=\"text-align: right;\">\n",
       "      <th></th>\n",
       "      <th>neg</th>\n",
       "      <th>neu</th>\n",
       "      <th>pos</th>\n",
       "      <th>compound</th>\n",
       "      <th>headline</th>\n",
       "      <th>label</th>\n",
       "    </tr>\n",
       "  </thead>\n",
       "  <tbody>\n",
       "    <tr>\n",
       "      <th>0</th>\n",
       "      <td>0.095</td>\n",
       "      <td>0.766</td>\n",
       "      <td>0.139</td>\n",
       "      <td>0.2960</td>\n",
       "      <td>If all of the members of a single element team...</td>\n",
       "      <td>1</td>\n",
       "    </tr>\n",
       "    <tr>\n",
       "      <th>1</th>\n",
       "      <td>0.000</td>\n",
       "      <td>1.000</td>\n",
       "      <td>0.000</td>\n",
       "      <td>0.0000</td>\n",
       "      <td>Do you think Genshin has been underappreciated...</td>\n",
       "      <td>0</td>\n",
       "    </tr>\n",
       "    <tr>\n",
       "      <th>2</th>\n",
       "      <td>0.097</td>\n",
       "      <td>0.794</td>\n",
       "      <td>0.109</td>\n",
       "      <td>0.3376</td>\n",
       "      <td>Lumine's life as the Traveler is not easy for ...</td>\n",
       "      <td>1</td>\n",
       "    </tr>\n",
       "    <tr>\n",
       "      <th>3</th>\n",
       "      <td>0.000</td>\n",
       "      <td>0.596</td>\n",
       "      <td>0.404</td>\n",
       "      <td>0.7269</td>\n",
       "      <td>Spin to Win (can someone with decent builds pl...</td>\n",
       "      <td>1</td>\n",
       "    </tr>\n",
       "    <tr>\n",
       "      <th>4</th>\n",
       "      <td>0.259</td>\n",
       "      <td>0.741</td>\n",
       "      <td>0.000</td>\n",
       "      <td>-0.5423</td>\n",
       "      <td>This game will suffer with the inevitable rise...</td>\n",
       "      <td>-1</td>\n",
       "    </tr>\n",
       "  </tbody>\n",
       "</table>\n",
       "</div>"
      ],
      "text/plain": [
       "     neg    neu    pos  compound  \\\n",
       "0  0.095  0.766  0.139    0.2960   \n",
       "1  0.000  1.000  0.000    0.0000   \n",
       "2  0.097  0.794  0.109    0.3376   \n",
       "3  0.000  0.596  0.404    0.7269   \n",
       "4  0.259  0.741  0.000   -0.5423   \n",
       "\n",
       "                                            headline  label  \n",
       "0  If all of the members of a single element team...      1  \n",
       "1  Do you think Genshin has been underappreciated...      0  \n",
       "2  Lumine's life as the Traveler is not easy for ...      1  \n",
       "3  Spin to Win (can someone with decent builds pl...      1  \n",
       "4  This game will suffer with the inevitable rise...     -1  "
      ]
     },
     "execution_count": 48,
     "metadata": {},
     "output_type": "execute_result"
    }
   ],
   "source": [
    "#new column label\n",
    "\n",
    "df2['label'] = 0 \n",
    "df2.loc[df2['compound'] > 0.2, 'label' ] = 1 #positive\n",
    "df2.loc[df2['compound'] < -0.2, 'label'] = -1 #negative\n",
    "df2.head()"
   ]
  },
  {
   "cell_type": "code",
   "execution_count": 49,
   "id": "45341f0e-a14a-4a5b-9cde-86b47f5830a2",
   "metadata": {},
   "outputs": [],
   "source": [
    "df3 = df2[['headline', 'label']]"
   ]
  },
  {
   "cell_type": "code",
   "execution_count": 51,
   "id": "d8475533-b763-4bb9-bdce-0cf9d093f797",
   "metadata": {},
   "outputs": [],
   "source": [
    "df3.to_csv(r'/Users/kirbypark/Desktop/JupyterNotebook/reddit_headlines_labels.csv', index=False)"
   ]
  },
  {
   "cell_type": "markdown",
   "id": "5e5af008-2531-4a01-b0d2-443129e7d9e1",
   "metadata": {
    "tags": []
   },
   "source": [
    "## Miscellaneous\n",
    "\n",
    "Doing more stuff - e.g., plotting. "
   ]
  },
  {
   "cell_type": "code",
   "execution_count": 52,
   "id": "78f5b010-c5b2-4cab-b330-65e81991e2ac",
   "metadata": {},
   "outputs": [
    {
     "data": {
      "text/plain": [
       " 1    50\n",
       " 0    32\n",
       "-1    18\n",
       "Name: label, dtype: int64"
      ]
     },
     "execution_count": 52,
     "metadata": {},
     "output_type": "execute_result"
    }
   ],
   "source": [
    "#check number of positive, negative, neutral headlines\n",
    "\n",
    "df2.label.value_counts()"
   ]
  },
  {
   "cell_type": "code",
   "execution_count": 53,
   "id": "82ba57e7-4749-42b2-bf06-6d2c8ecea5f0",
   "metadata": {},
   "outputs": [
    {
     "data": {
      "text/plain": [
       " 1    50.0\n",
       " 0    32.0\n",
       "-1    18.0\n",
       "Name: label, dtype: float64"
      ]
     },
     "execution_count": 53,
     "metadata": {},
     "output_type": "execute_result"
    }
   ],
   "source": [
    "#percent value\n",
    "\n",
    "df2.label.value_counts(normalize=True) * 100"
   ]
  },
  {
   "cell_type": "code",
   "execution_count": 54,
   "id": "e5ca26a7-ef2b-4822-83df-8db0ea93cb1c",
   "metadata": {},
   "outputs": [
    {
     "name": "stdout",
     "output_type": "stream",
     "text": [
      "Positive headlines:\n",
      "\n",
      "['If all of the members of a single element teamed up and had to fight the other groups of elements, which one would win?',\n",
      " \"Lumine's life as the Traveler is not easy for her trying to reunite with her Brother, but with Paimon and her allies by her side, it helps pay the bills!\",\n",
      " 'Spin to Win (can someone with decent builds please do this)',\n",
      " 'Genshin monetization system and how to enjoy the game responsably as a F2P player',\n",
      " 'Not meta card but it was fun Noelle, Xinqui/Ningguang and Raiden. If you going to ask if I do win with answer yes 5 W 2 L every match mostly.']\n",
      "\n",
      "Negative headlines:\n",
      "\n",
      "['This game will suffer with the inevitable rise of private servers.',\n",
      " 'HoYoverse statement regarding the missing VA payments',\n",
      " 'In case you didnt know you should lock the dark iron sword. You will never get it again if you accidently delete it or fed it as exp to another weapon.',\n",
      " 'How to NOT win 11-1 spiral abyss',\n",
      " 'Genshin Impact would possibly need more craftable weapon options - even craftable 5 stars']\n"
     ]
    }
   ],
   "source": [
    "#print a few positive headlines\n",
    "print('Positive headlines:\\n')\n",
    "pprint(list(df2[df2['label'] == 1].headline)[:5], width=200)\n",
    "\n",
    "#print a few negative headlines\n",
    "print('\\nNegative headlines:\\n')\n",
    "pprint(list(df2[df2['label'] == -1].headline)[:5], width=200)"
   ]
  },
  {
   "cell_type": "code",
   "execution_count": 56,
   "id": "b063ae07-c555-42a1-934c-527066e67e32",
   "metadata": {
    "tags": []
   },
   "outputs": [
    {
     "data": {
      "image/png": "[encoded data removed]",
      "text/plain": [
       "<Figure size 800x800 with 1 Axes>"
      ]
     },
     "metadata": {},
     "output_type": "display_data"
    }
   ],
   "source": [
    "#plotting data\n",
    "fig, ax = plt.subplots(figsize=(8, 8))\n",
    "\n",
    "counts = df2.label.value_counts(normalize=True) * 100\n",
    "\n",
    "sns.barplot(x=counts.index, y=counts, ax=ax)\n",
    "\n",
    "ax.set_xticklabels(['Negative', 'Neutral', 'Positive'])\n",
    "ax.set_ylabel('Percentage')\n",
    "\n",
    "plt.show()"
   ]
  },
  {
   "cell_type": "code",
   "execution_count": null,
   "id": "a492bb1f-0bc5-44d7-910e-908c5b0ed910",
   "metadata": {},
   "outputs": [],
   "source": []
  }
 ],
 "metadata": {
  "kernelspec": {
   "display_name": "Python 3 (ipykernel)",
   "language": "python",
   "name": "python3"
  },
  "language_info": {
   "codemirror_mode": {
    "name": "ipython",
    "version": 3
   },
   "file_extension": ".py",
   "mimetype": "text/x-python",
   "name": "python",
   "nbconvert_exporter": "python",
   "pygments_lexer": "ipython3",
   "version": "3.10.9"
  }
 },
 "nbformat": 4,
 "nbformat_minor": 5
}
